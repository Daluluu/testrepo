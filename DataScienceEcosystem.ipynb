{
 "cells": [
  {
   "cell_type": "markdown",
   "id": "fd44a0e9-8b76-4a43-8d8c-14306a3f4ae8",
   "metadata": {
    "tags": []
   },
   "source": [
    "# Data Science Tools and Ecosystem"
   ]
  },
  {
   "cell_type": "markdown",
   "id": "e52b2390-9d6f-47d2-a02d-fbd5407dbcd5",
   "metadata": {},
   "source": [
    "In this notebook, Data Science Tools and Ecosystem are summarized."
   ]
  },
  {
   "cell_type": "markdown",
   "id": "c83f1534-f4c3-4f08-ae20-067ff2e6bae2",
   "metadata": {},
   "source": [
    "Some of the popular languages that Data Scientists use are:\n",
    "1. python \n",
    "2. R\n",
    "3. C++"
   ]
  },
  {
   "cell_type": "markdown",
   "id": "48ded69c-a9c9-4b0e-bf7d-b28617cd29e9",
   "metadata": {},
   "source": [
    "Some of the commonly used libraries used by Data Scientists include:\n",
    "* NumPy\n",
    "* Scikit-learn\n",
    "* Pandas"
   ]
  },
  {
   "cell_type": "markdown",
   "id": "2e98f6af-5281-4d6e-96d1-fd1c6afa26d6",
   "metadata": {},
   "source": [
    "| Data Science Tools |\n",
    "| ----------------- |\n",
    "| Jupyter Notebooks | \n",
    "| Rstudio | \n",
    "| Apache Zeppelin | \n"
   ]
  },
  {
   "cell_type": "markdown",
   "id": "0af89f21-ec13-4004-9ce7-346dc306ba01",
   "metadata": {},
   "source": [
    "### Below are a few examples of evaluating arithmetic expressions in Python"
   ]
  },
  {
   "cell_type": "code",
   "execution_count": 1,
   "id": "cca8b1e0-d9f5-4c27-a14d-79891aff742e",
   "metadata": {
    "tags": []
   },
   "outputs": [
    {
     "name": "stdout",
     "output_type": "stream",
     "text": [
      "17\n"
     ]
    }
   ],
   "source": [
    "x=(3*4)+5\n",
    "# This a simple arithmetic expression to mutiply then add integers\n",
    "print(x)"
   ]
  },
  {
   "cell_type": "code",
   "execution_count": 2,
   "id": "4216e95a-8243-4632-80a5-49325f89c575",
   "metadata": {
    "tags": []
   },
   "outputs": [
    {
     "name": "stdout",
     "output_type": "stream",
     "text": [
      "3.3333333333333335\n"
     ]
    }
   ],
   "source": [
    "# This will convert 200 minutes to hours by diving by 60\n",
    "h=200/60\n",
    "print(h)"
   ]
  },
  {
   "cell_type": "markdown",
   "id": "3fcbf600-9bb9-4140-b5f9-8a27a24262b9",
   "metadata": {},
   "source": [
    "**Objectives:**\n",
    "* Python\n",
    "* SQL\n",
    "* R\n",
    "* Julia\n",
    "* Java"
   ]
  },
  {
   "cell_type": "markdown",
   "id": "94ebabd1-4645-4432-a709-03f6518cc92b",
   "metadata": {},
   "source": [
    "## Author\n",
    "Lu"
   ]
  },
  {
   "cell_type": "code",
   "execution_count": null,
   "id": "0379b9d5-240d-4766-906d-ee95fdfd2c39",
   "metadata": {},
   "outputs": [],
   "source": []
  }
 ],
 "metadata": {
  "kernelspec": {
   "display_name": "Python",
   "language": "python",
   "name": "conda-env-python-py"
  },
  "language_info": {
   "codemirror_mode": {
    "name": "ipython",
    "version": 3
   },
   "file_extension": ".py",
   "mimetype": "text/x-python",
   "name": "python",
   "nbconvert_exporter": "python",
   "pygments_lexer": "ipython3",
   "version": "3.7.12"
  }
 },
 "nbformat": 4,
 "nbformat_minor": 5
}
